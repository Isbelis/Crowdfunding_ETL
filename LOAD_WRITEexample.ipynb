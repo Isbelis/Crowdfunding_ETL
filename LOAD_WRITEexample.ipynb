{
 "cells": [
  {
   "cell_type": "code",
   "execution_count": 1,
   "id": "fe3c7ed3-b126-4cb6-8231-c5b2e204420a",
   "metadata": {},
   "outputs": [],
   "source": [
    "# for database connections\n",
    "import sqlalchemy\n",
    "from sqlalchemy import create_engine, inspect, text\n",
    "\n",
    "# data\n",
    "import pandas as pd\n",
    "import numpy as np\n",
    "\n",
    "# viz\n",
    "import seaborn as sns\n",
    "import matplotlib.pyplot as plt"
   ]
  },
  {
   "cell_type": "code",
   "execution_count": null,
   "id": "0686fc1b-b084-418e-8664-b31971a7316b",
   "metadata": {},
   "outputs": [],
   "source": [
    "SQL_USERNAME = \"postgres\"\n",
    "SQL_PASSWORD = \"password\" # change this\n",
    "SQL_IP = \"localhost\"\n",
    "PORT = 5432\n",
    "DATABASE = \"project_two_ex\" # change this"
   ]
  }
 ],
 "metadata": {
  "kernelspec": {
   "display_name": "Python 3 (ipykernel)",
   "language": "python",
   "name": "python3"
  },
  "language_info": {
   "codemirror_mode": {
    "name": "ipython",
    "version": 3
   },
   "file_extension": ".py",
   "mimetype": "text/x-python",
   "name": "python",
   "nbconvert_exporter": "python",
   "pygments_lexer": "ipython3",
   "version": "3.11.7"
  }
 },
 "nbformat": 4,
 "nbformat_minor": 5
}
